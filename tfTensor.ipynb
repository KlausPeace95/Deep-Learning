{
  "nbformat": 4,
  "nbformat_minor": 0,
  "metadata": {
    "colab": {
      "provenance": [],
      "authorship_tag": "ABX9TyP5EGxstfWu9yDVeUzR28f1",
      "include_colab_link": true
    },
    "kernelspec": {
      "name": "python3",
      "display_name": "Python 3"
    },
    "language_info": {
      "name": "python"
    }
  },
  "cells": [
    {
      "cell_type": "markdown",
      "metadata": {
        "id": "view-in-github",
        "colab_type": "text"
      },
      "source": [
        "<a href=\"https://colab.research.google.com/github/KlausPeace95/Deep-Learning/blob/main/tfTensor.ipynb\" target=\"_parent\"><img src=\"https://colab.research.google.com/assets/colab-badge.svg\" alt=\"Open In Colab\"/></a>"
      ]
    },
    {
      "cell_type": "code",
      "execution_count": 8,
      "metadata": {
        "colab": {
          "base_uri": "https://localhost:8080/"
        },
        "id": "9URo237ziGo0",
        "outputId": "c85aded8-e47b-4b0c-9bb6-38138ae0cf96"
      },
      "outputs": [
        {
          "output_type": "execute_result",
          "data": {
            "text/plain": [
              "array([ 1.3 ,  1.  ,  4.  , 23.99])"
            ]
          },
          "metadata": {},
          "execution_count": 8
        }
      ],
      "source": [
        "import numpy as np\n",
        "tensor_1d = np.array([1.3, 1, 4.0, 23.99])\n",
        "tensor_1d"
      ]
    },
    {
      "cell_type": "code",
      "source": [
        "tensor_1d[2] # prints 4."
      ],
      "metadata": {
        "colab": {
          "base_uri": "https://localhost:8080/"
        },
        "id": "GeYdP6vPB5tO",
        "outputId": "36d34f9e-73c6-4547-e217-2d0fc89f5284"
      },
      "execution_count": 9,
      "outputs": [
        {
          "output_type": "execute_result",
          "data": {
            "text/plain": [
              "4.0"
            ]
          },
          "metadata": {},
          "execution_count": 9
        }
      ]
    },
    {
      "cell_type": "code",
      "source": [
        "tensor_2d = np.array([[2,3,5],[0,-4,8],[6,1,-1]])\n",
        "tensor_2d"
      ],
      "metadata": {
        "colab": {
          "base_uri": "https://localhost:8080/"
        },
        "id": "huat4bVBDngJ",
        "outputId": "3518bd20-a46b-48b9-9508-4b603aad31f6"
      },
      "execution_count": 10,
      "outputs": [
        {
          "output_type": "execute_result",
          "data": {
            "text/plain": [
              "array([[ 2,  3,  5],\n",
              "       [ 0, -4,  8],\n",
              "       [ 6,  1, -1]])"
            ]
          },
          "metadata": {},
          "execution_count": 10
        }
      ]
    },
    {
      "cell_type": "code",
      "source": [
        "tensor_2d[2][0]"
      ],
      "metadata": {
        "colab": {
          "base_uri": "https://localhost:8080/"
        },
        "id": "Is-JxxkED8B0",
        "outputId": "bccd77df-088e-494a-d419-32bfba60939b"
      },
      "execution_count": 12,
      "outputs": [
        {
          "output_type": "execute_result",
          "data": {
            "text/plain": [
              "6"
            ]
          },
          "metadata": {},
          "execution_count": 12
        }
      ]
    },
    {
      "cell_type": "code",
      "source": [
        "tensor_zero = np.zeros((3, 4), dtype=int)\n",
        "tensor_zero"
      ],
      "metadata": {
        "colab": {
          "base_uri": "https://localhost:8080/"
        },
        "id": "raSc6A2tEJfL",
        "outputId": "e13e56e6-f7d9-45de-d5d4-634b4687d84d"
      },
      "execution_count": 17,
      "outputs": [
        {
          "output_type": "execute_result",
          "data": {
            "text/plain": [
              "array([[0, 0, 0, 0],\n",
              "       [0, 0, 0, 0],\n",
              "       [0, 0, 0, 0]])"
            ]
          },
          "metadata": {},
          "execution_count": 17
        }
      ]
    },
    {
      "cell_type": "code",
      "source": [
        "# Tensor Handling and Manipulations\n",
        "\n",
        "import tensorflow as tf\n",
        "tf.compat.v1.disable_eager_execution()\n",
        "\n",
        "matrix1 = np.array([(2,2,2),(2,2,2),(2,2,2)],dtype = 'int32')\n",
        "matrix2 = np.array([(1,1,1),(1,1,1),(1,1,1)],dtype = 'int32')\n",
        "\n",
        "print('Matrix1')\n",
        "print (matrix1)\n",
        "print('\\n Matrix2')\n",
        "print (matrix2)\n",
        "\n",
        "matrix1 = tf.constant(matrix1)\n",
        "matrix2 = tf.constant(matrix2)\n",
        "print('\\n Matrix1 * Matrix2')\n",
        "matrix_product = tf.matmul(matrix1, matrix2)\n",
        "print(matrix_product)\n",
        "print('\\n Matrix1 + Matrix2')\n",
        "matrix_sum = tf.add(matrix1,matrix2)\n",
        "print(matrix_sum)\n",
        "print('\\n Matrix3')\n",
        "matrix_3 = np.array([(2,7,2),(1,4,2),(9,0,2)],dtype = 'float32')\n",
        "print (matrix_3)\n",
        "\n",
        "print('\\n det(Matrix3)')\n",
        "matrix_det = tf.linalg.det(matrix_3)\n",
        "print(matrix_det)\n",
        "\n",
        "with tf.compat.v1.Session() as sess:\n",
        "   result1 = sess.run(matrix_product)\n",
        "   result2 = sess.run(matrix_sum)\n",
        "   result3 = sess.run(matrix_det)\n",
        "\n",
        "print('\\n Session Results')\n",
        "\n",
        "print (result1)\n",
        "print (result2)\n",
        "print (result3)"
      ],
      "metadata": {
        "colab": {
          "base_uri": "https://localhost:8080/"
        },
        "id": "nwNlqew1EzzV",
        "outputId": "f64eb7fe-3732-47df-d471-895562aa5bc1"
      },
      "execution_count": 32,
      "outputs": [
        {
          "output_type": "stream",
          "name": "stdout",
          "text": [
            "Matrix1\n",
            "[[2 2 2]\n",
            " [2 2 2]\n",
            " [2 2 2]]\n",
            "\n",
            " Matrix2\n",
            "[[1 1 1]\n",
            " [1 1 1]\n",
            " [1 1 1]]\n",
            "\n",
            " Matrix1 * Matrix2\n",
            "Tensor(\"MatMul_2:0\", shape=(3, 3), dtype=int32)\n",
            "\n",
            " Matrix1 + Matrix2\n",
            "Tensor(\"Add_2:0\", shape=(3, 3), dtype=int32)\n",
            "\n",
            " Matrix3\n",
            "[[2. 7. 2.]\n",
            " [1. 4. 2.]\n",
            " [9. 0. 2.]]\n",
            "\n",
            " det(Matrix3)\n",
            "Tensor(\"MatrixDeterminant_2:0\", shape=(), dtype=float32)\n",
            "\n",
            " Session Results\n",
            "[[6 6 6]\n",
            " [6 6 6]\n",
            " [6 6 6]]\n",
            "[[3 3 3]\n",
            " [3 3 3]\n",
            " [3 3 3]]\n",
            "55.999992\n"
          ]
        }
      ]
    }
  ]
}