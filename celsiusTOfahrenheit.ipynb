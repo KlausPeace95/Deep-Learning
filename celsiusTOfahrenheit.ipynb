{
  "nbformat": 4,
  "nbformat_minor": 0,
  "metadata": {
    "colab": {
      "provenance": [],
      "authorship_tag": "ABX9TyMprR3TIvJjDMR/Gx/S/qSu",
      "include_colab_link": true
    },
    "kernelspec": {
      "name": "python3",
      "display_name": "Python 3"
    },
    "language_info": {
      "name": "python"
    }
  },
  "cells": [
    {
      "cell_type": "markdown",
      "metadata": {
        "id": "view-in-github",
        "colab_type": "text"
      },
      "source": [
        "<a href=\"https://colab.research.google.com/github/KlausPeace95/Deep-Learning/blob/main/celsiusTOfahrenheit.ipynb\" target=\"_parent\"><img src=\"https://colab.research.google.com/assets/colab-badge.svg\" alt=\"Open In Colab\"/></a>"
      ]
    },
    {
      "cell_type": "code",
      "execution_count": 8,
      "metadata": {
        "colab": {
          "base_uri": "https://localhost:8080/"
        },
        "id": "_5Mup-_yAFC3",
        "outputId": "99f60d32-5226-45b6-d175-da45c36bb754"
      },
      "outputs": [
        {
          "output_type": "stream",
          "name": "stdout",
          "text": [
            "[-40 -13  32  46  59  71 100]\n"
          ]
        }
      ],
      "source": [
        "import numpy as np\n",
        "\n",
        "celsius_p = np.array([-40, -25, 0, 8, 15, 22, 38])\n",
        "fahrenheit_a = np.array([0, 0, 0, 0, 0, 0, 0])\n",
        "\n",
        "for i in range(7):\n",
        "  fahrenheit_a[i] = 1.8*celsius_p[i] + 32\n",
        "  \n",
        "\n",
        "print(fahrenheit_a)"
      ]
    },
    {
      "cell_type": "code",
      "source": [],
      "metadata": {
        "id": "DzQmwzFOClXt"
      },
      "execution_count": null,
      "outputs": []
    },
    {
      "cell_type": "code",
      "source": [],
      "metadata": {
        "id": "ZZFpILX5CojV"
      },
      "execution_count": null,
      "outputs": []
    }
  ]
}