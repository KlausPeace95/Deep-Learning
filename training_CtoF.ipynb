{
  "nbformat": 4,
  "nbformat_minor": 0,
  "metadata": {
    "colab": {
      "provenance": [],
      "authorship_tag": "ABX9TyN8LzImZGsPrtNCUE62dS/a",
      "include_colab_link": true
    },
    "kernelspec": {
      "name": "python3",
      "display_name": "Python 3"
    },
    "language_info": {
      "name": "python"
    }
  },
  "cells": [
    {
      "cell_type": "markdown",
      "metadata": {
        "id": "view-in-github",
        "colab_type": "text"
      },
      "source": [
        "<a href=\"https://colab.research.google.com/github/KlausPeace95/Deep-Learning/blob/main/training_CtoF.ipynb\" target=\"_parent\"><img src=\"https://colab.research.google.com/assets/colab-badge.svg\" alt=\"Open In Colab\"/></a>"
      ]
    },
    {
      "cell_type": "code",
      "execution_count": 2,
      "metadata": {
        "colab": {
          "base_uri": "https://localhost:8080/"
        },
        "id": "gKUq8q7tDm_7",
        "outputId": "d0f2c17f-f5cc-48d8-ad2d-963c4040955b"
      },
      "outputs": [
        {
          "output_type": "stream",
          "name": "stdout",
          "text": [
            "-40 degrees Cellsius = -40 degrees Fahrenheit\n",
            "-25 degrees Cellsius = -13 degrees Fahrenheit\n",
            "-10 degrees Cellsius = 14 degrees Fahrenheit\n",
            "0 degrees Cellsius = 32 degrees Fahrenheit\n",
            "8 degrees Cellsius = 40 degrees Fahrenheit\n",
            "15 degrees Cellsius = 59 degrees Fahrenheit\n",
            "22 degrees Cellsius = 72 degrees Fahrenheit\n",
            "38 degrees Cellsius = 100 degrees Fahrenheit\n"
          ]
        }
      ],
      "source": [
        "import tensorflow as tf\n",
        "\n",
        "\n",
        "import numpy as np\n",
        "\n",
        "celsius_q = np.array([-40, -25, -10, 0, 8, 15, 22, 38])\n",
        "fahrenheit_a = np.array([-40, -13, 14, 32, 40, 59, 72, 100])\n",
        "\n",
        "for i, c in enumerate(celsius_q):\n",
        "  print(\"{} degrees Cellsius = {} degrees Fahrenheit\".format(c, fahrenheit_a[i]))"
      ]
    },
    {
      "cell_type": "code",
      "source": [
        "model = tf.keras.Sequential([\n",
        "    tf.keras.layers.Dense(units=1, input_shape=[1])\n",
        "])\n"
      ],
      "metadata": {
        "id": "qqBfBrJ0H_1q"
      },
      "execution_count": 5,
      "outputs": []
    },
    {
      "cell_type": "code",
      "source": [
        "model.compile(loss = 'mean_square_error',\n",
        "              optimizer=tf.keras.optimizers.Adam(0.1))"
      ],
      "metadata": {
        "id": "3iiUWs7IJDEp"
      },
      "execution_count": 10,
      "outputs": []
    },
    {
      "cell_type": "code",
      "source": [
        "# Training Process\n",
        "\n",
        "history = model.fit(celsius_q, fahrenheit_a, epochs=500, verbose=False)\n",
        "print(\"Finished Training the Model\")"
      ],
      "metadata": {
        "id": "ft8g7MOjJxjW"
      },
      "execution_count": 10,
      "outputs": []
    }
  ]
}