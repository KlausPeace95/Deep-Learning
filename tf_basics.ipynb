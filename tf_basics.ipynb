{
  "nbformat": 4,
  "nbformat_minor": 0,
  "metadata": {
    "colab": {
      "provenance": [],
      "authorship_tag": "ABX9TyO687NPjtHaF/ZkZpyE4zGj",
      "include_colab_link": true
    },
    "kernelspec": {
      "name": "python3",
      "display_name": "Python 3"
    },
    "language_info": {
      "name": "python"
    }
  },
  "cells": [
    {
      "cell_type": "markdown",
      "metadata": {
        "id": "view-in-github",
        "colab_type": "text"
      },
      "source": [
        "<a href=\"https://colab.research.google.com/github/KlausPeace95/Deep-Learning/blob/main/tf_basics.ipynb\" target=\"_parent\"><img src=\"https://colab.research.google.com/assets/colab-badge.svg\" alt=\"Open In Colab\"/></a>"
      ]
    },
    {
      "cell_type": "code",
      "execution_count": 2,
      "metadata": {
        "colab": {
          "base_uri": "https://localhost:8080/"
        },
        "id": "FplsNDtbqC7A",
        "outputId": "4951a3d9-89c7-4f50-a335-ae38347bc73a"
      },
      "outputs": [
        {
          "output_type": "stream",
          "name": "stdout",
          "text": [
            "TensorFlow version:  2.15.0\n"
          ]
        }
      ],
      "source": [
        "import tensorflow as tf\n",
        "print(\"TensorFlow version: \", tf.__version__)"
      ]
    },
    {
      "cell_type": "code",
      "source": [
        "mnist = tf.keras.datasets.mnist\n",
        "\n",
        "(x_train, y_train), (x_test, y_test) = mnist.load_data()\n",
        "x_train, x_test = x_train/255.0, x_test/255.0"
      ],
      "metadata": {
        "colab": {
          "base_uri": "https://localhost:8080/"
        },
        "id": "fcDpnocSrzds",
        "outputId": "a31673fc-daf5-43bb-c0fe-d70e51b91c7d"
      },
      "execution_count": 3,
      "outputs": [
        {
          "output_type": "stream",
          "name": "stdout",
          "text": [
            "Downloading data from https://storage.googleapis.com/tensorflow/tf-keras-datasets/mnist.npz\n",
            "11490434/11490434 [==============================] - 1s 0us/step\n"
          ]
        }
      ]
    },
    {
      "cell_type": "code",
      "source": [
        "model = tf.keras.models.Sequential([\n",
        "    tf.keras.layers.Flatten(input_shape=(28, 28)),\n",
        "    tf.keras.layers.Dense(128, activation='relu'),\n",
        "    tf.keras.layers.Dropout(0.2),\n",
        "    tf.keras.layers.Dense(10)\n",
        "])"
      ],
      "metadata": {
        "id": "FXuafOShspJx"
      },
      "execution_count": 4,
      "outputs": []
    },
    {
      "cell_type": "code",
      "source": [
        "predictions = model(x_train[:1]).numpy()\n",
        "predictions"
      ],
      "metadata": {
        "id": "XmSINma2t6ul",
        "outputId": "e3b3c4a8-b8bf-4dd0-fdf6-e37cec9b6422",
        "colab": {
          "base_uri": "https://localhost:8080/"
        }
      },
      "execution_count": 5,
      "outputs": [
        {
          "output_type": "execute_result",
          "data": {
            "text/plain": [
              "array([[ 0.97095317,  0.15480427, -0.1906796 ,  0.1859858 , -0.02711892,\n",
              "        -0.8284084 , -1.2057344 , -0.051815  , -0.22894105,  0.32037157]],\n",
              "      dtype=float32)"
            ]
          },
          "metadata": {},
          "execution_count": 5
        }
      ]
    },
    {
      "cell_type": "code",
      "source": [
        "tf.nn.softmax(predictions).numpy()"
      ],
      "metadata": {
        "id": "B9AIMYlKujRL",
        "outputId": "caad4463-41c4-4969-a2e5-2811ec016328",
        "colab": {
          "base_uri": "https://localhost:8080/"
        }
      },
      "execution_count": 6,
      "outputs": [
        {
          "output_type": "execute_result",
          "data": {
            "text/plain": [
              "array([[0.24745019, 0.10940541, 0.07744566, 0.11287059, 0.09120751,\n",
              "        0.04092936, 0.02806496, 0.08898263, 0.07453845, 0.12910521]],\n",
              "      dtype=float32)"
            ]
          },
          "metadata": {},
          "execution_count": 6
        }
      ]
    },
    {
      "cell_type": "code",
      "source": [
        "loss_fn = tf.keras.losses.SparseCategoricalCrossentropy(from_logits=True)"
      ],
      "metadata": {
        "id": "__QFbuVMvJTs"
      },
      "execution_count": 7,
      "outputs": []
    },
    {
      "cell_type": "code",
      "source": [
        "loss_fn(y_train[:1], predictions).numpy()"
      ],
      "metadata": {
        "id": "8fHgqqXIvrI1",
        "outputId": "2e491fc6-7c5f-4e02-ce64-1161713b1adf",
        "colab": {
          "base_uri": "https://localhost:8080/"
        }
      },
      "execution_count": 8,
      "outputs": [
        {
          "output_type": "execute_result",
          "data": {
            "text/plain": [
              "3.1959076"
            ]
          },
          "metadata": {},
          "execution_count": 8
        }
      ]
    },
    {
      "cell_type": "code",
      "source": [
        "model.compile(optimizer='adam',\n",
        "              loss=loss_fn,\n",
        "              metrics=['accuracy']\n",
        "              )"
      ],
      "metadata": {
        "id": "i91Mrv7bwZdW"
      },
      "execution_count": 9,
      "outputs": []
    },
    {
      "cell_type": "code",
      "source": [
        "#TRANING AND EVALUATION"
      ],
      "metadata": {
        "id": "5_dmpncswwIK"
      },
      "execution_count": 10,
      "outputs": []
    },
    {
      "cell_type": "code",
      "source": [
        "model.fit(x_train, y_train, epochs=5)"
      ],
      "metadata": {
        "id": "VRdez4P4w0yo",
        "outputId": "c3c9d38d-15b7-4072-d0ec-da532a3ddb5a",
        "colab": {
          "base_uri": "https://localhost:8080/"
        }
      },
      "execution_count": 11,
      "outputs": [
        {
          "output_type": "stream",
          "name": "stdout",
          "text": [
            "Epoch 1/5\n",
            "1875/1875 [==============================] - 8s 4ms/step - loss: 0.2899 - accuracy: 0.9169\n",
            "Epoch 2/5\n",
            "1875/1875 [==============================] - 8s 4ms/step - loss: 0.1389 - accuracy: 0.9587\n",
            "Epoch 3/5\n",
            "1875/1875 [==============================] - 7s 4ms/step - loss: 0.1051 - accuracy: 0.9691\n",
            "Epoch 4/5\n",
            "1875/1875 [==============================] - 7s 4ms/step - loss: 0.0850 - accuracy: 0.9742\n",
            "Epoch 5/5\n",
            "1875/1875 [==============================] - 8s 4ms/step - loss: 0.0749 - accuracy: 0.9764\n"
          ]
        },
        {
          "output_type": "execute_result",
          "data": {
            "text/plain": [
              "<keras.src.callbacks.History at 0x7de425f2ee90>"
            ]
          },
          "metadata": {},
          "execution_count": 11
        }
      ]
    },
    {
      "cell_type": "code",
      "source": [
        "model.evaluate(x_test, y_test, verbose=2)"
      ],
      "metadata": {
        "id": "mqplt_jYNenv",
        "outputId": "bf93b8ba-cd83-4eec-bb46-c7d41c44761d",
        "colab": {
          "base_uri": "https://localhost:8080/"
        }
      },
      "execution_count": 15,
      "outputs": [
        {
          "output_type": "stream",
          "name": "stdout",
          "text": [
            "313/313 - 0s - loss: 0.0700 - accuracy: 0.9788 - 494ms/epoch - 2ms/step\n"
          ]
        },
        {
          "output_type": "execute_result",
          "data": {
            "text/plain": [
              "[0.07000849395990372, 0.9787999987602234]"
            ]
          },
          "metadata": {},
          "execution_count": 15
        }
      ]
    },
    {
      "cell_type": "code",
      "source": [
        "probability_model = tf.keras.Sequential([\n",
        "    model,\n",
        "    tf.keras.layers.Softmax()\n",
        "])"
      ],
      "metadata": {
        "id": "aEllEoJpOYuG"
      },
      "execution_count": 16,
      "outputs": []
    },
    {
      "cell_type": "code",
      "source": [
        "probability_model(x_test[:5])"
      ],
      "metadata": {
        "id": "wHT3tTCRPMCc",
        "outputId": "e161c8bb-b1da-4798-92e3-0bfe26187e66",
        "colab": {
          "base_uri": "https://localhost:8080/"
        }
      },
      "execution_count": 20,
      "outputs": [
        {
          "output_type": "execute_result",
          "data": {
            "text/plain": [
              "<tf.Tensor: shape=(5, 10), dtype=float32, numpy=\n",
              "array([[3.2070179e-07, 1.0195599e-09, 8.2790966e-06, 1.7956017e-04,\n",
              "        1.1671410e-11, 6.3059169e-08, 1.8788384e-12, 9.9980241e-01,\n",
              "        3.1157944e-07, 9.0278227e-06],\n",
              "       [6.8511198e-08, 1.6878363e-04, 9.9969542e-01, 1.1963725e-04,\n",
              "        5.3964943e-15, 9.8303090e-06, 1.2068297e-07, 1.3949714e-13,\n",
              "        6.0425186e-06, 1.9170132e-12],\n",
              "       [3.6986074e-07, 9.9471480e-01, 5.0771149e-04, 1.0380784e-05,\n",
              "        1.9743119e-04, 3.9169758e-05, 7.7221724e-05, 3.7021262e-03,\n",
              "        7.4997020e-04, 9.0076475e-07],\n",
              "       [9.9990463e-01, 2.5310817e-10, 3.3355416e-05, 6.6574148e-07,\n",
              "        3.1776551e-07, 2.4435760e-05, 1.1449184e-05, 2.4023720e-05,\n",
              "        4.3492307e-08, 1.0784061e-06],\n",
              "       [4.5918823e-06, 2.8542113e-10, 1.2492563e-04, 3.7595066e-07,\n",
              "        9.9670488e-01, 1.8524752e-06, 3.8675234e-06, 1.5897084e-04,\n",
              "        8.5473494e-06, 2.9918700e-03]], dtype=float32)>"
            ]
          },
          "metadata": {},
          "execution_count": 20
        }
      ]
    }
  ]
}